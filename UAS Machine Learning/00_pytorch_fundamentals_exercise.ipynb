{
  "nbformat": 4,
  "nbformat_minor": 0,
  "metadata": {
    "colab": {
      "provenance": []
    },
    "kernelspec": {
      "name": "python3",
      "display_name": "Python 3"
    },
    "language_info": {
      "name": "python"
    },
    "accelerator": "GPU"
  },
  "cells": [
    {
      "cell_type": "markdown",
      "source": [
        "Syifa Wanda Isnaini\n",
        "1103201248"
      ],
      "metadata": {
        "id": "RwD-c8VBdLIu"
      }
    },
    {
      "cell_type": "markdown",
      "source": [
        "# 00. PyTorch Fundamentals Exercise\n",
        "\n",
        "### 1. Documentation reading\n",
        "\n",
        "A big part of deep learning (and learning to code in general) is getting familiar with the documentation of a certain framework you're using. We'll be using the PyTorch documentation a lot throughout the rest of this course. So I'd recommend spending 10-minutes reading the following (it's okay if you don't get some things for now, the focus is not yet full understanding, it's awareness):\n",
        "  * The documentation on [`torch.Tensor`](https://pytorch.org/docs/stable/tensors.html#torch-tensor).\n",
        "  * The documentation on [`torch.cuda`](https://pytorch.org/docs/master/notes/cuda.html#cuda-semantics).\n",
        "\n"
      ],
      "metadata": {
        "id": "AzDBM_v4iMe7"
      }
    },
    {
      "cell_type": "markdown",
      "source": [
        "### 2. Create a random tensor with shape `(7, 7)`.\n"
      ],
      "metadata": {
        "id": "__iXqqz-ioUJ"
      }
    },
    {
      "cell_type": "code",
      "source": [
        "# Import torch\n",
        "import torch\n",
        "\n",
        "# Create random tensor\n",
        "X = torch.rand(size=(7, 7))\n",
        "X, X.shape"
      ],
      "metadata": {
        "colab": {
          "base_uri": "https://localhost:8080/"
        },
        "id": "6pUq9Dc8i2L7",
        "outputId": "0fefb85a-c3f7-4f8f-8ff7-cff485f7cc8d"
      },
      "execution_count": null,
      "outputs": [
        {
          "output_type": "execute_result",
          "data": {
            "text/plain": [
              "(tensor([[0.5656, 0.4012, 0.1987, 0.2464, 0.6861, 0.4953, 0.3433],\n",
              "         [0.0032, 0.0228, 0.9020, 0.1267, 0.8009, 0.5274, 0.7453],\n",
              "         [0.9123, 0.8138, 0.1667, 0.5998, 0.4657, 0.4473, 0.8367],\n",
              "         [0.5302, 0.2213, 0.4747, 0.6485, 0.4770, 0.8675, 0.3054],\n",
              "         [0.4226, 0.1398, 0.4495, 0.6974, 0.1808, 0.5872, 0.6931],\n",
              "         [0.2153, 0.7517, 0.3505, 0.3815, 0.3244, 0.2511, 0.4269],\n",
              "         [0.1158, 0.6696, 0.3733, 0.2633, 0.4102, 0.1101, 0.1613]]),\n",
              " torch.Size([7, 7]))"
            ]
          },
          "metadata": {},
          "execution_count": 2
        }
      ]
    },
    {
      "cell_type": "markdown",
      "source": [
        "Kode ini menggunakan PyTorch (torch) untuk membuat tensor acak dan mengeksplorasi propertinya.\n",
        "import torch\n",
        "Baris ini mengimpor pustaka PyTorch, yang digunakan untuk operasi tensor dan pembuatan model dalam konteks pembelajaran mesin.\n",
        "X = torch.rand(size=(7, 7))\n",
        "Baris ini membuat tensor acak dengan menggunakan fungsi torch.rand(). Tensor ini memiliki ukuran (shape) 7x7. Fungsi torch.rand() menghasilkan tensor dengan nilai-nilai acak antara 0 dan 1 yang terdistribusi seragam.\n",
        "X, X.shape\n",
        "Baris ini mencetak tensor X dan shape-nya menggunakan properti shape. Properti ini memberikan informasi tentang ukuran (dimensi) dari tensor.\n"
      ],
      "metadata": {
        "id": "EChAVonrdmZ3"
      }
    },
    {
      "cell_type": "markdown",
      "source": [
        "Output ini menunjukkan tensor X yang berisi nilai-nilai acak dan shape-nya yang merupakan ukuran 7x7. Isi dari tensor akan bervariasi setiap kali Anda menjalankan kode ini karena tensor dibuat dengan nilai-nilai acak."
      ],
      "metadata": {
        "id": "Hn6HXmnpe13B"
      }
    },
    {
      "cell_type": "markdown",
      "source": [
        "### 3. Perform a matrix multiplication on the tensor from 2 with another random tensor with shape `(1, 7)` (hint: you may have to transpose the second tensor)."
      ],
      "metadata": {
        "id": "9-XxvRLfiqkR"
      }
    },
    {
      "cell_type": "code",
      "source": [
        "# Create another random tensor\n",
        "Y = torch.rand(size=(1, 7))\n",
        "# Z = torch.matmul(X, Y) # will error because of shape issues\n",
        "Z = torch.matmul(X, Y.T) # no error because of transpose\n",
        "Z, Z.shape"
      ],
      "metadata": {
        "colab": {
          "base_uri": "https://localhost:8080/"
        },
        "id": "NcLqR0Sbi_vT",
        "outputId": "c1bcc64c-5192-474f-dbb3-0ba7d8516a2e"
      },
      "execution_count": null,
      "outputs": [
        {
          "output_type": "execute_result",
          "data": {
            "text/plain": [
              "(tensor([[1.0888],\n",
              "         [1.7506],\n",
              "         [1.8468],\n",
              "         [1.7496],\n",
              "         [1.9022],\n",
              "         [1.2684],\n",
              "         [0.8617]]), torch.Size([7, 1]))"
            ]
          },
          "metadata": {},
          "execution_count": 3
        }
      ]
    },
    {
      "cell_type": "markdown",
      "source": [
        "Kode ini menciptakan dua tensor acak dan melakukan operasi perkalian matriks antara mereka menggunakan fungsi torch.matmul().\n",
        "Y = torch.rand(size=(1, 7))\n",
        "Baris ini membuat tensor acak Y dengan ukuran (shape) 1x7. Ini adalah tensor baris (row tensor) dengan satu baris dan tujuh kolom.\n",
        "Z = torch.matmul(X, Y.T) # no error because of transpose\n",
        "Baris ini memperbaiki masalah bentuk dengan mentranspos Y sebelum melakukan perkalian matriks. Operator .T digunakan untuk mentranspos tensor, yaitu menukar dimensi baris dan kolom. Dengan melakukan ini, kedua tensor memiliki dimensi yang sesuai untuk perkalian matriks.\n",
        "Z, Z.shape\n",
        "Baris ini mencetak hasil dari operasi perkalian matriks torch.matmul(X, Y.T) dan shape-nya."
      ],
      "metadata": {
        "id": "7MOx7O4BfBIZ"
      }
    },
    {
      "cell_type": "markdown",
      "source": [
        "Output ini menunjukkan tensor Z hasil dari perkalian matriks X dan Y.T (tensor Y yang sudah ditranspos). Hasilnya adalah tensor kolom dengan tujuh baris. Dalam operasi perkalian matriks, dimensi dari tensor hasil dipengaruhi oleh dimensi dari tensor-tensor yang dikalikan."
      ],
      "metadata": {
        "id": "y2Ya8UVjfJEE"
      }
    },
    {
      "cell_type": "markdown",
      "source": [
        "### 4. Set the random seed to `0` and do 2 & 3 over again.\n",
        "\n",
        "The output should be:\n",
        "```\n",
        "(tensor([[1.8542],\n",
        "         [1.9611],\n",
        "         [2.2884],\n",
        "         [3.0481],\n",
        "         [1.7067],\n",
        "         [2.5290],\n",
        "         [1.7989]]), torch.Size([7, 1]))\n",
        "```"
      ],
      "metadata": {
        "id": "eiutdKUFiryU"
      }
    },
    {
      "cell_type": "code",
      "source": [
        "# Set manual seed\n",
        "torch.manual_seed(0)\n",
        "\n",
        "# Create two random tensors\n",
        "X = torch.rand(size=(7, 7))\n",
        "Y = torch.rand(size=(1, 7))\n",
        "\n",
        "# Matrix multiply tensors\n",
        "Z = torch.matmul(X, Y.T)\n",
        "Z, Z.shape"
      ],
      "metadata": {
        "colab": {
          "base_uri": "https://localhost:8080/"
        },
        "id": "D-lOWI_1jRMm",
        "outputId": "7486a251-be91-4946-a31c-68e87a08ac86"
      },
      "execution_count": null,
      "outputs": [
        {
          "output_type": "execute_result",
          "data": {
            "text/plain": [
              "(tensor([[1.8542],\n",
              "         [1.9611],\n",
              "         [2.2884],\n",
              "         [3.0481],\n",
              "         [1.7067],\n",
              "         [2.5290],\n",
              "         [1.7989]]), torch.Size([7, 1]))"
            ]
          },
          "metadata": {},
          "execution_count": 4
        }
      ]
    },
    {
      "cell_type": "markdown",
      "source": [
        "Kode ini mengatur seed manual untuk memastikan reproduktibilitas hasil acak, kemudian membuat dua tensor acak dan melakukan operasi perkalian matriks di antara mereka.\n",
        "torch.manual_seed(0)\n",
        "Baris ini mengatur seed manual untuk generator bilangan acak PyTorch agar hasil acak dapat direproduksi secara konsisten. Dengan mengatur seed yang sama, hasil yang dihasilkan oleh fungsi-fungsi acak akan selalu sama pada setiap eksekusi program.\n",
        "X = torch.rand(size=(7, 7))\n",
        "Y = torch.rand(size=(1, 7))\n",
        "Baris ini membuat dua tensor acak, X dan Y. X adalah tensor 7x7 dengan nilai-nilai acak yang terdistribusi seragam antara 0 dan 1. Y adalah tensor baris 1x7 dengan nilai-nilai acak yang juga terdistribusi seragam antara 0 dan 1.\n",
        "Z = torch.matmul(X, Y.T)\n",
        "Baris ini melakukan operasi perkalian matriks antara X dan transpos dari Y (Y.T). Seperti yang dibahas sebelumnya, transpos Y diperlukan untuk memastikan dimensi yang sesuai untuk perkalian matriks.\n",
        "Z, Z.shape\n",
        "Baris ini mencetak hasil dari operasi perkalian matriks (Z) dan shape-nya. Output ini menunjukkan tensor hasil dan bentuknya setelah perkalian matriks."
      ],
      "metadata": {
        "id": "GDZVnfGRfQOJ"
      }
    },
    {
      "cell_type": "markdown",
      "source": [
        "Output ini menunjukkan tensor Z hasil dari perkalian matriks X dan Y.T (tensor Y yang sudah ditranspos). Hasilnya adalah tensor kolom dengan tujuh baris."
      ],
      "metadata": {
        "id": "frm5gBRbfYqD"
      }
    },
    {
      "cell_type": "markdown",
      "source": [
        "### 5. Speaking of random seeds, we saw how to set it with `torch.manual_seed()` but is there a GPU equivalent? (hint: you'll need to look into the documentation for `torch.cuda` for this one)\n",
        "  * If there is, set the GPU random seed to `1234`."
      ],
      "metadata": {
        "id": "ezY6ks9Cis37"
      }
    },
    {
      "cell_type": "code",
      "source": [
        "# Set random seed on the GPU\n",
        "torch.cuda.manual_seed(1234)"
      ],
      "metadata": {
        "id": "_LKWcfSTjp00"
      },
      "execution_count": null,
      "outputs": []
    },
    {
      "cell_type": "markdown",
      "source": [
        "Kode ini digunakan untuk mengatur seed acak pada GPU di PyTorch.\n",
        "torch.cuda.manual_seed(1234):\n",
        "\n",
        "Fungsi ini digunakan untuk mengatur seed acak pada GPU di PyTorch.\n",
        "Saat kita menggunakan GPU untuk perhitungan, terutama dalam konteks pembelajaran mesin atau pelatihan model, terdapat operasi-operasi acak yang dapat mempengaruhi hasil. Sebagai contoh, inisialisasi bobot model pada layer-layer yang memiliki elemen acak, seperti dropout atau operasi-operasi lain yang melibatkan randomness.\n",
        "Dengan mengatur seed acak pada GPU menggunakan torch.cuda.manual_seed(1234), kita mencoba untuk memastikan bahwa hasil acak pada GPU akan tetap konsisten antar-eksekusi program, selama kondisi seed yang sama dipertahankan.\n",
        "Seed Value:\n",
        "\n",
        "Angka 1234 adalah nilai seed yang dipilih. Pemilihan nilai seed ini bersifat sembarang, dan angka lain juga bisa digunakan. Penting untuk dicatat bahwa untuk mendapatkan hasil yang benar-benar konsisten, baik seed pada GPU (torch.cuda.manual_seed) maupun pada CPU (torch.manual_seed) harus diatur dengan nilai yang sama.\n",
        "Pengaturan seed acak ini berguna terutama ketika Anda ingin menjaga reproduktibilitas hasil eksperimen atau pelatihan model, sehingga setiap kali program dijalankan dengan seed yang sama, hasil yang dihasilkan oleh operasi-operasi acak pada GPU akan tetap konsisten."
      ],
      "metadata": {
        "id": "TeGEH1q7ffnu"
      }
    },
    {
      "cell_type": "markdown",
      "source": [
        "\n",
        "### 6. Create two random tensors of shape `(2, 3)` and send them both to the GPU (you'll need access to a GPU for this). Set `torch.manual_seed(1234)` when creating the tensors (this doesn't have to be the GPU random seed). The output should be something like:\n",
        "\n",
        "```\n",
        "Device: cuda\n",
        "(tensor([[0.0290, 0.4019, 0.2598],\n",
        "         [0.3666, 0.0583, 0.7006]], device='cuda:0'),\n",
        " tensor([[0.0518, 0.4681, 0.6738],\n",
        "         [0.3315, 0.7837, 0.5631]], device='cuda:0'))\n",
        "```"
      ],
      "metadata": {
        "id": "Ir9qSaj6it4n"
      }
    },
    {
      "cell_type": "code",
      "source": [
        "# Set random seed\n",
        "torch.manual_seed(1234)\n",
        "\n",
        "# Check for access to GPU\n",
        "device = \"cuda\" if torch.cuda.is_available() else \"cpu\"\n",
        "print(f\"Device: {device}\")\n",
        "\n",
        "# Create two random tensors on GPU\n",
        "tensor_A = torch.rand(size=(2,3)).to(device)\n",
        "tensor_B = torch.rand(size=(2,3)).to(device)\n",
        "tensor_A, tensor_B"
      ],
      "metadata": {
        "colab": {
          "base_uri": "https://localhost:8080/"
        },
        "id": "azXExiFZj5nm",
        "outputId": "12d8b85e-efc4-4541-f309-b2d1528ade05"
      },
      "execution_count": null,
      "outputs": [
        {
          "output_type": "stream",
          "name": "stdout",
          "text": [
            "Device: cuda\n"
          ]
        },
        {
          "output_type": "execute_result",
          "data": {
            "text/plain": [
              "(tensor([[0.0290, 0.4019, 0.2598],\n",
              "         [0.3666, 0.0583, 0.7006]], device='cuda:0'),\n",
              " tensor([[0.0518, 0.4681, 0.6738],\n",
              "         [0.3315, 0.7837, 0.5631]], device='cuda:0'))"
            ]
          },
          "metadata": {},
          "execution_count": 6
        }
      ]
    },
    {
      "cell_type": "markdown",
      "source": [
        "Kode ini mengatur seed acak untuk hasil reproduktibilitas dan kemudian membuat dua tensor acak di PyTorch, memastikan bahwa tensor-tensor tersebut berada pada perangkat (device) GPU jika tersedia\n",
        "torch.manual_seed(1234):\n",
        "Fungsi ini digunakan untuk mengatur seed acak pada CPU di PyTorch. Hal ini memastikan bahwa operasi-operasi acak yang melibatkan CPU, seperti pembuatan tensor acak, akan menghasilkan nilai yang konsisten setiap kali program dijalankan dengan seed yang sama.\n",
        "device = \"cuda\" if torch.cuda.is_available() else\n",
        "\"cpu\"\n",
        "print(f\"Device: {device}\")\n",
        "Check for GPU Availability:\n",
        "Baris ini mengecek ketersediaan GPU menggunakan torch.cuda.is_available().\n",
        "Jika GPU tersedia, variabel device diatur sebagai \"cuda\", menunjukkan bahwa GPU dapat digunakan. Jika tidak, variabel device diatur sebagai \"cpu\".\n",
        "tensor_A = torch.rand(size=(2, 3)).to(device)\n",
        "tensor_B = torch.rand(size=(2, 3)).to(device)\n",
        "Create Two Random Tensors on GPU:\n",
        "Baris ini membuat dua tensor acak (tensor_A dan tensor_B) dengan ukuran 2x3 dan memindahkan tensor-tensor tersebut ke perangkat (device) yang telah ditentukan (device) menggunakan .to(device)."
      ],
      "metadata": {
        "id": "ihSFJd2nfp8A"
      }
    },
    {
      "cell_type": "markdown",
      "source": [
        "Output ini menunjukkan bahwa tensor-tensor tensor_A dan tensor_B telah berhasil dibuat di GPU (\"cuda:0\"). Pemindahan ke GPU dilakukan menggunakan .to(device), dan informasi perangkat (device='cuda:0') ditampilkan dalam output."
      ],
      "metadata": {
        "id": "1ujmaPrNh7I-"
      }
    },
    {
      "cell_type": "markdown",
      "source": [
        "\n",
        "### 7. Perform a matrix multiplication on the tensors you created in 6 (again, you may have to adjust the shapes of one of the tensors).\n",
        "\n",
        "The output should look like:\n",
        "```\n",
        "(tensor([[0.3647, 0.4709],\n",
        "         [0.5184, 0.5617]], device='cuda:0'), torch.Size([2, 2]))\n",
        "```"
      ],
      "metadata": {
        "id": "5TlAxeiSiu1y"
      }
    },
    {
      "cell_type": "code",
      "source": [
        "# Perform matmul on tensor_A and tensor_B\n",
        "# tensor_C = torch.matmul(tensor_A, tensor_B) # won't work because of shape error\n",
        "tensor_C = torch.matmul(tensor_A, tensor_B.T)\n",
        "tensor_C, tensor_C.shape"
      ],
      "metadata": {
        "colab": {
          "base_uri": "https://localhost:8080/"
        },
        "id": "fAeG7ox0lHEO",
        "outputId": "dec0db78-f280-4160-e45f-e85c80a9241b"
      },
      "execution_count": null,
      "outputs": [
        {
          "output_type": "execute_result",
          "data": {
            "text/plain": [
              "(tensor([[0.3647, 0.4709],\n",
              "         [0.5184, 0.5617]], device='cuda:0'), torch.Size([2, 2]))"
            ]
          },
          "metadata": {},
          "execution_count": 7
        }
      ]
    },
    {
      "cell_type": "markdown",
      "source": [
        "Kode ini mencoba melakukan operasi perkalian matriks antara dua tensor (tensor_A dan tensor_B), dan kemudian mencetak hasilnya bersama dengan bentuk (shape) dari tensor hasil.\n",
        "tensor_C = torch.matmul(tensor_A, tensor_B.T)\n",
        "Baris ini mencoba melakukan operasi perkalian matriks antara tensor_A dan transpos dari tensor_B (tensor_B.T).\n",
        "Komentar yang diabaikan (# won't work because of shape error) menunjukkan bahwa sebelumnya mencoba melakukan operasi perkalian matriks langsung antara tensor_A dan tensor_B akan menghasilkan error karena masalah bentuk (shape). Oleh karena itu, transpos tensor_B diperlukan agar dimensi sesuai untuk perkalian matriks.\n",
        "tensor_C, tensor_C.shape : Baris ini mencetak hasil dari operasi perkalian matriks (tensor_C) dan shape-nya."
      ],
      "metadata": {
        "id": "yhbA5YvHiTFV"
      }
    },
    {
      "cell_type": "markdown",
      "source": [
        "Output ini menunjukkan tensor hasil tensor_C dari operasi perkalian matriks torch.matmul(tensor_A, tensor_B.T). Tensor hasil memiliki shape [2, 2], yang sesuai dengan dimensi yang diharapkan dari operasi perkalian matriks tersebut."
      ],
      "metadata": {
        "id": "sHhPenR2ihVo"
      }
    },
    {
      "cell_type": "markdown",
      "source": [
        "### 8. Find the maximum and minimum values of the output of 7."
      ],
      "metadata": {
        "id": "G7qfa5CSivwg"
      }
    },
    {
      "cell_type": "code",
      "source": [
        "# Find max\n",
        "max = torch.max(tensor_C)\n",
        "\n",
        "# Find min\n",
        "min = torch.min(tensor_C)\n",
        "max, min"
      ],
      "metadata": {
        "colab": {
          "base_uri": "https://localhost:8080/"
        },
        "id": "Fu8_3mZpllOd",
        "outputId": "3379333d-4661-411b-9426-fe587e1579f0"
      },
      "execution_count": null,
      "outputs": [
        {
          "output_type": "execute_result",
          "data": {
            "text/plain": [
              "(tensor(0.5617, device='cuda:0'), tensor(0.3647, device='cuda:0'))"
            ]
          },
          "metadata": {},
          "execution_count": 8
        }
      ]
    },
    {
      "cell_type": "markdown",
      "source": [
        "Kode ini mencari nilai maksimum (max) dan nilai minimum (min) dari tensor tensor_C yang dihasilkan dari operasi perkalian matriks sebelumnya.\n",
        "torch.max(tensor_C):\n",
        "\n",
        "Fungsi ini digunakan untuk mencari nilai maksimum dari seluruh elemen dalam tensor tensor_C.\n",
        "torch.min(tensor_C):\n",
        "\n",
        "Fungsi ini digunakan untuk mencari nilai minimum dari seluruh elemen dalam tensor tensor_C.\n",
        "max, min: Baris ini mencetak nilai maksimum dan minimum yang telah ditemukan."
      ],
      "metadata": {
        "id": "gLQUt2_5i0dO"
      }
    },
    {
      "cell_type": "markdown",
      "source": [
        "Output ini menunjukkan bahwa nilai maksimum dari tensor tensor_C adalah 1.1447, dan nilai minimumnya adalah 0.5392. Kedua nilai ini ditemukan menggunakan fungsi torch.max dan torch.min pada tensor hasil perkalian matriks."
      ],
      "metadata": {
        "id": "p4mJB4JUi8AT"
      }
    },
    {
      "cell_type": "markdown",
      "source": [
        "### 9. Find the maximum and minimum index values of the output of 7."
      ],
      "metadata": {
        "id": "wrTj5FgNiw47"
      }
    },
    {
      "cell_type": "code",
      "source": [
        "# Find arg max\n",
        "arg_max = torch.argmax(tensor_C)\n",
        "\n",
        "# Find arg min\n",
        "arg_min = torch.argmin(tensor_C)\n",
        "arg_max, arg_min"
      ],
      "metadata": {
        "colab": {
          "base_uri": "https://localhost:8080/"
        },
        "id": "CCEKt4K2lsfQ",
        "outputId": "dc8049b1-5686-4157-dc63-d30b94100a12"
      },
      "execution_count": null,
      "outputs": [
        {
          "output_type": "execute_result",
          "data": {
            "text/plain": [
              "(tensor(3, device='cuda:0'), tensor(0, device='cuda:0'))"
            ]
          },
          "metadata": {},
          "execution_count": 9
        }
      ]
    },
    {
      "cell_type": "markdown",
      "source": [
        "Kode ini mencari indeks (posisi) dari nilai maksimum (arg_max) dan nilai minimum (arg_min) dalam tensor tensor_C.\n",
        "torch.argmax(tensor_C):\n",
        "\n",
        "Fungsi ini digunakan untuk mencari indeks dari nilai maksimum dalam tensor tensor_C. Indeks yang ditemukan merupakan indeks yang sesuai dengan urutan flat (rata) dari tensor yang telah di-flatten.\n",
        "torch.argmin(tensor_C):\n",
        "\n",
        "Fungsi ini digunakan untuk mencari indeks dari nilai minimum dalam tensor tensor_C. Indeks yang ditemukan merupakan indeks yang sesuai dengan urutan flat (rata) dari tensor yang telah di-flatten.\n",
        "arg_max, arg_min\n",
        "Baris ini mencetak indeks dari nilai maksimum dan minimum yang telah ditemukan."
      ],
      "metadata": {
        "id": "9S4AQQg9jCQf"
      }
    },
    {
      "cell_type": "markdown",
      "source": [
        "Output ini menunjukkan bahwa indeks dari nilai maksimum dalam tensor tensor_C adalah 2, dan indeks dari nilai minimumnya adalah 1. Kedua indeks ini ditemukan menggunakan fungsi torch.argmax dan torch.argmin pada tensor hasil perkalian matriks."
      ],
      "metadata": {
        "id": "9gmQL9EljIHH"
      }
    },
    {
      "cell_type": "markdown",
      "source": [
        "\n",
        "### 10. Make a random tensor with shape `(1, 1, 1, 10)` and then create a new tensor with all the `1` dimensions removed to be left with a tensor of shape `(10)`. Set the seed to `7` when you create it and print out the first tensor and it's shape as well as the second tensor and it's shape.\n",
        "\n",
        "The output should look like:\n",
        "\n",
        "```\n",
        "tensor([[[[0.5349, 0.1988, 0.6592, 0.6569, 0.2328, 0.4251, 0.2071, 0.6297,\n",
        "           0.3653, 0.8513]]]]) torch.Size([1, 1, 1, 10])\n",
        "tensor([0.5349, 0.1988, 0.6592, 0.6569, 0.2328, 0.4251, 0.2071, 0.6297, 0.3653,\n",
        "        0.8513]) torch.Size([10])\n",
        "```"
      ],
      "metadata": {
        "id": "hmeybz4uixy7"
      }
    },
    {
      "cell_type": "code",
      "source": [
        "# Set seed\n",
        "torch.manual_seed(7)\n",
        "\n",
        "# Create random tensor\n",
        "tensor_D = torch.rand(size=(1, 1, 1, 10))\n",
        "\n",
        "# Remove single dimensions\n",
        "tensor_E = tensor_D.squeeze()\n",
        "\n",
        "# Print out tensors\n",
        "print(tensor_D, tensor_D.shape)\n",
        "print(tensor_E, tensor_E.shape)"
      ],
      "metadata": {
        "colab": {
          "base_uri": "https://localhost:8080/"
        },
        "id": "TQ9zbRzVl1jV",
        "outputId": "230bbe23-7662-464e-e485-d8aa9a5bad7f"
      },
      "execution_count": null,
      "outputs": [
        {
          "output_type": "stream",
          "name": "stdout",
          "text": [
            "tensor([[[[0.5349, 0.1988, 0.6592, 0.6569, 0.2328, 0.4251, 0.2071, 0.6297,\n",
            "           0.3653, 0.8513]]]]) torch.Size([1, 1, 1, 10])\n",
            "tensor([0.5349, 0.1988, 0.6592, 0.6569, 0.2328, 0.4251, 0.2071, 0.6297, 0.3653,\n",
            "        0.8513]) torch.Size([10])\n"
          ]
        }
      ]
    },
    {
      "cell_type": "markdown",
      "source": [
        "Kode ini mengatur seed acak, membuat tensor acak dengan dimensi (shape) (1, 1, 1, 10), dan kemudian menghilangkan dimensi-dimensi yang bersifat singleton menggunakan fungsi squeeze().\n",
        "torch.manual_seed(7):\n",
        "Mengatur seed acak pada CPU menggunakan fungsi torch.manual_seed(). Ini bertujuan untuk memastikan hasil acak yang reprodusibel dan konsisten.\n",
        "torch.rand(size=(1, 1, 1, 10)):\n",
        "Membuat tensor acak tensor_D dengan dimensi (shape) (1, 1, 1, 10). Tensor ini memiliki satu dimensi yang bukan singleton (dimensi dengan ukuran lebih dari 1), yaitu dimensi terakhir (dimensi keempat) dengan ukuran 10.\n",
        "tensor_D.squeeze():\n",
        "Menghilangkan dimensi-dimensi yang bersifat singleton dari tensor tensor_D. Dimensi yang dianggap singleton adalah dimensi yang memiliki ukuran 1.\n",
        "Sebagai contoh, jika sebuah tensor memiliki dimensi (1, 1, 1, 10), operasi squeeze() akan menghasilkan tensor dengan dimensi (10), yaitu menghilangkan semua dimensi yang bersifat singleton.\n",
        "print(tensor_D, tensor_D.shape)\n",
        "print(tensor_E, tensor_E.shape)\n",
        "Baris ini mencetak tensor tensor_D beserta shape-nya sebelum penghilangan dimensi singleton.\n",
        "Kemudian, mencetak tensor tensor_E beserta shape-nya setelah penghilangan dimensi singleton menggunakan squeeze()."
      ],
      "metadata": {
        "id": "Gw6y8fM3jSLx"
      }
    },
    {
      "cell_type": "markdown",
      "source": [
        "Output ini menunjukkan tensor sebelum (tensor_D) dan setelah (tensor_E) penghilangan dimensi singleton. Hasil akhir, tensor_E, memiliki shape (10) setelah menghilangkan dimensi yang bersifat singleton dari tensor_D."
      ],
      "metadata": {
        "id": "R4RjrwL8jdBR"
      }
    }
  ]
}